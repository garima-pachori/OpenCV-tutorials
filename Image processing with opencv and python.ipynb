{
 "cells": [
  {
   "cell_type": "code",
   "execution_count": 14,
   "id": "f81f7ac0",
   "metadata": {},
   "outputs": [],
   "source": [
    "import cv2\n",
    "src=\"cvtest.jpg\"\n",
    "input_image=cv2.imread(src)\n",
    "cv2.imshow('Original Image',input_image)\n",
    "cv2.waitKey(0)\n",
    "cv2.destroyAllWindows()\n",
    "if input_image is None:\n",
    "    print('Could not open image',input_image)\n",
    "    exit(0)\n",
    "\n",
    "#Gray scale version of the image\n",
    "gray=cv2.cvtColor(input_image,cv2.COLOR_BGR2GRAY)\n",
    "\n",
    "#Display gray scale version\n",
    "cv2.imshow('Gray Scale image',gray)\n",
    "\n",
    "cv2.waitKey(0)\n",
    "cv2.destroyAllWindows()"
   ]
  },
  {
   "cell_type": "code",
   "execution_count": 15,
   "id": "575b2223",
   "metadata": {},
   "outputs": [],
   "source": [
    "import cv2\n",
    "import numpy as np\n",
    "src='cvtest.jpg'\n",
    "input_image=cv2.imread(src)\n",
    "if input_image is None:\n",
    "    print('Could not load image',input_image)\n",
    "    exit(0)\n",
    "    \n",
    "blue,green,red=cv2.split(input_image)\n",
    "cv2.imshow('Blue-Gray scale',blue)\n",
    "cv2.waitKey(0)\n",
    "cv2.destroyAllWindows()\n",
    "cv2.imshow('Green-Gray scale',green)\n",
    "cv2.waitKey(0)\n",
    "cv2.destroyAllWindows()\n",
    "cv2.imshow('Red-Gray scale',red)\n",
    "cv2.waitKey(0)\n",
    "cv2.destroyAllWindows()\n"
   ]
  },
  {
   "cell_type": "code",
   "execution_count": 16,
   "id": "ceaf7423",
   "metadata": {},
   "outputs": [],
   "source": [
    "#we create a dummy 2D array\n",
    "\n",
    "import cv2\n",
    "\n",
    "blue_channel=np.zeros(input_image.shape,input_image.dtype)\n",
    "green_channel=np.zeros(input_image.shape,input_image.dtype)\n",
    "red_channel=np.zeros(input_image.shape,input_image.dtype)\n",
    "\n",
    "cv2.mixChannels([blue,green,red],[blue_channel],[0,0])\n",
    "cv2.waitKey(0)\n",
    "cv2.mixChannels([blue,green,red],[green_channel],[1,1])\n",
    "cv2.waitKey(0)\n",
    "cv2.mixChannels([blue,green,red],[red_channel],[2,2])\n",
    "cv2.waitKey(0)\n",
    "\n",
    "\n",
    "\n",
    "#display the three obtained images\n",
    "cv2.imshow('Blue Channel',blue_channel)\n",
    "cv2.waitKey(0)\n",
    "cv2.destroyAllWindows()\n",
    "cv2.imshow('Green Channel',green_channel)\n",
    "cv2.waitKey(0)\n",
    "cv2.destroyAllWindows()\n",
    "cv2.imshow('Red Channel',red_channel)\n",
    "cv2.waitKey(0)\n",
    "cv2.destroyAllWindows()"
   ]
  },
  {
   "cell_type": "code",
   "execution_count": 17,
   "id": "307ff6ac",
   "metadata": {},
   "outputs": [],
   "source": [
    "import cv2\n",
    "\n",
    "img = cv2.imread('cvtest.jpg')\n",
    "cv2.imshow('Original image', img)\n",
    "cv2.waitKey(0)\n",
    "cv2.destroyAllWindows()\n",
    "\n",
    "blur_image = cv2.blur(img, (5, 5))  # Applying blurring operation\n",
    "\n",
    "cv2.imshow('Blurred image', blur_image)\n",
    "cv2.waitKey(0)\n",
    "cv2.destroyAllWindows()\n"
   ]
  },
  {
   "cell_type": "code",
   "execution_count": null,
   "id": "083032c5",
   "metadata": {},
   "outputs": [],
   "source": []
  }
 ],
 "metadata": {
  "kernelspec": {
   "display_name": "Python 3 (ipykernel)",
   "language": "python",
   "name": "python3"
  },
  "language_info": {
   "codemirror_mode": {
    "name": "ipython",
    "version": 3
   },
   "file_extension": ".py",
   "mimetype": "text/x-python",
   "name": "python",
   "nbconvert_exporter": "python",
   "pygments_lexer": "ipython3",
   "version": "3.10.9"
  }
 },
 "nbformat": 4,
 "nbformat_minor": 5
}
